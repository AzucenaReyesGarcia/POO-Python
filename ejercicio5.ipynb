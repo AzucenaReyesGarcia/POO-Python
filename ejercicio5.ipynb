{
 "cells": [
  {
   "cell_type": "markdown",
   "metadata": {},
   "source": [
    "## Ejercicio 5"
   ]
  },
  {
   "cell_type": "markdown",
   "metadata": {},
   "source": [
    "<img src=\".Diagramas_clases/01_create_class.png\" alt=\"Ex 1\" with=\"500\""
   ]
  },
  {
   "cell_type": "markdown",
   "metadata": {},
   "source": [
    "## Clase Animal \n",
    "- **str name**: Atribiuto de la instancia. Nombre del animal\n",
    "- **void eat()**: Imprime 'Yummy yummy! estoy comiendo.'.\n",
    "- **void make_noise()**:Imprime '{self.name} hace Grrr!.'.\n",
    "\n"
   ]
  },
  {
   "cell_type": "code",
   "execution_count": null,
   "metadata": {},
   "outputs": [],
   "source": [
    "class Animal: \n",
    "    def __init__(self, name):\n",
    "        self.name = name \n",
    "        \n",
    "    def eat(self):\n",
    "        print('Yummy yummy! estoy comiendo.')\n",
    "        \n",
    "    def make_noise(self):\n",
    "        print(f'{self.name} hace Grrr!.')"
   ]
  },
  {
   "cell_type": "code",
   "execution_count": null,
   "metadata": {},
   "outputs": [],
   "source": [
    "Negro = Animal('Negro')\n",
    "Negro.eat()\n",
    "Negro.make_noise()"
   ]
  },
  {
   "cell_type": "markdown",
   "metadata": {},
   "source": [
    "## Clase Cat \n",
    "- **void make_noise()**:Imprime '{self.name} hace rrrr!.'.\n",
    "- **void meow()**:Imprime 'Soy un gato y hago Meow!.'."
   ]
  },
  {
   "cell_type": "code",
   "execution_count": null,
   "metadata": {},
   "outputs": [],
   "source": [
    "class Animal:\n",
    "    def make_noise(self):\n",
    "        print(f'{self.name} hace Rrrr!.')\n",
    "        \n",
    "    def meow(self):\n",
    "        print('Soy un gato y hago meow!.')\n",
    "        "
   ]
  },
  {
   "cell_type": "code",
   "execution_count": null,
   "metadata": {},
   "outputs": [],
   "source": [
    "Michu = Cat('Michu')\n",
    "Michu.make_noise()\n",
    "Michu.meow()\n",
    "Michu.eat()\n"
   ]
  },
  {
   "cell_type": "markdown",
   "metadata": {},
   "source": [
    "## Clase Dog \n",
    "- **void action()**:Imprime '{self.name} mueve la cola!.'.\n",
    "- **void meow()**:Imprime 'Soy un perro y hago woof woof!.'."
   ]
  },
  {
   "cell_type": "code",
   "execution_count": null,
   "metadata": {},
   "outputs": [],
   "source": [
    "class Dog (Animal):\n",
    "    def action(self):\n",
    "        print(f'{self.name} mueve la cola')\n",
    "        \n",
    "    def bark(self):\n",
    "        print('Soy un perro y hago woof woof!.')"
   ]
  },
  {
   "cell_type": "code",
   "execution_count": null,
   "metadata": {},
   "outputs": [],
   "source": [
    "Firu = Dog('Firu')\n",
    "Firu.action()\n",
    "Firu.bark()\n",
    "Firu.eat()\n",
    "Firu.make_noise()"
   ]
  },
  {
   "cell_type": "markdown",
   "metadata": {},
   "source": [
    "## Clase Wolf \n",
    "- **void action()**:Imprime '{self.name} muerde y duele OUCH!.'.\n"
   ]
  },
  {
   "cell_type": "code",
   "execution_count": null,
   "metadata": {},
   "outputs": [],
   "source": [
    " class Wolf(Animal):\n",
    "    def action(self):\n",
    "        print(f'{self.name} muerde y duele OUCH!.')"
   ]
  },
  {
   "cell_type": "code",
   "execution_count": null,
   "metadata": {},
   "outputs": [],
   "source": [
    "Sparco = Dog('Sparco')\n",
    "Sparco.action()\n",
    "Sparco.eat()\n",
    "Sparco.make_noise()"
   ]
  },
  {
   "cell_type": "markdown",
   "metadata": {},
   "source": [
    "## Hybrid \n",
    "\n",
    "- **void action()**: Imprime:\n",
    "    - '{self.name} mueve la cola!'\n",
    "    - '{self.name}!'muerde y duele OUCH' "
   ]
  },
  {
   "cell_type": "code",
   "execution_count": null,
   "metadata": {},
   "outputs": [],
   "source": [
    "class Hybrid(Dog, Wolf): \n",
    "    def action(self): \n",
    "        super().action()\n",
    "        Wolf.action(self)"
   ]
  },
  {
   "cell_type": "code",
   "execution_count": null,
   "metadata": {},
   "outputs": [],
   "source": [
    "Princesa = Hybrid('Princesa')\n",
    "Princesa.action()\n",
    "Princesa.bark()\n",
    "Princesa.eat()\n",
    "Princesa.make_noise()"
   ]
  }
 ],
 "metadata": {
  "language_info": {
   "name": "python"
  }
 },
 "nbformat": 4,
 "nbformat_minor": 2
}
