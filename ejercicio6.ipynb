{
 "cells": [
  {
   "cell_type": "markdown",
   "metadata": {},
   "source": [
    "## Ejercicio 6"
   ]
  },
  {
   "cell_type": "markdown",
   "metadata": {},
   "source": [
    "<img src=\".Diagramas_clases/01_create_class.png\" alt=\"Ex 1\" with=\"500\""
   ]
  },
  {
   "cell_type": "markdown",
   "metadata": {},
   "source": [
    "## Clase Employee\n",
    "- **int id**: Atributo de instancia. Identifica de manera unica a cada instancia de 'Employee'\n",
    "- **int new_id**: Atributo de clase. Identificador unico\n",
    "- **void say_id**: imprime 'Mi id es: {self.id}'.\n",
    "\n",
    "## Clase User \n",
    "- **str role**: Atributo de instancia. Funcion de la instancia 'User' p.ej. \n",
    "    - Administrador \n",
    "    - Manager \n",
    "    - Usuario \n",
    "- **str username**: Atributo de instancia. Nombre del usuario \n",
    "- **void say_info()**: Imprime 'Mi nombre es {self.username y soy {self.role}.'.\n",
    "\n",
    "## Clase Admi \n",
    "- **void say_id**: Imprime:\n",
    "    - 'Mi ad es: {self.id}.\n",
    "    - 'Soy un administrador \\\\(0-0)/'.\n",
    "    \n",
    "## Clase Manager  \n",
    "- **void say_id**: Imprime:\n",
    "    - 'Mi ad es: {self.id}.\n",
    "    - 'Soy un administrador \\\\(0-0)/'.\n",
    "    - 'Y estoy al mando'"
   ]
  }
 ],
 "metadata": {
  "language_info": {
   "name": "python"
  }
 },
 "nbformat": 4,
 "nbformat_minor": 2
}
